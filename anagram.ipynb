{
 "cells": [
  {
   "cell_type": "code",
   "execution_count": 190,
   "id": "b80a2275",
   "metadata": {},
   "outputs": [],
   "source": [
    "import math\n",
    "import enchant\n",
    "import itertools\n",
    "import numpy as np\n",
    "import collections"
   ]
  },
  {
   "cell_type": "code",
   "execution_count": 191,
   "id": "2faa8704",
   "metadata": {},
   "outputs": [],
   "source": [
    "d = enchant.Dict(\"en_US\")"
   ]
  },
  {
   "cell_type": "code",
   "execution_count": 192,
   "id": "854f3e7d",
   "metadata": {},
   "outputs": [
    {
     "data": {
      "text/plain": [
       "True"
      ]
     },
     "execution_count": 192,
     "metadata": {},
     "output_type": "execute_result"
    }
   ],
   "source": [
    "d.check(\"Hello\")"
   ]
  },
  {
   "cell_type": "code",
   "execution_count": 193,
   "id": "1aa1d1c9",
   "metadata": {},
   "outputs": [
    {
     "data": {
      "text/plain": [
       "False"
      ]
     },
     "execution_count": 193,
     "metadata": {},
     "output_type": "execute_result"
    }
   ],
   "source": [
    "d.check(\"Helo\")"
   ]
  },
  {
   "cell_type": "markdown",
   "id": "a82d69d3",
   "metadata": {},
   "source": [
    "### Given a string x, generate all possible permutations"
   ]
  },
  {
   "cell_type": "code",
   "execution_count": 194,
   "id": "c8c8ef19",
   "metadata": {},
   "outputs": [],
   "source": [
    "x = 'aback'\n",
    "N = len(x) # number of letters"
   ]
  },
  {
   "cell_type": "markdown",
   "id": "bdb428c0",
   "metadata": {},
   "source": [
    "##### we can add between zero and N-1 spaces to the string to generate between 1 and N separate words"
   ]
  },
  {
   "cell_type": "code",
   "execution_count": 195,
   "id": "9dd6742c",
   "metadata": {},
   "outputs": [],
   "source": [
    "for i in np.arange(0,N):\n",
    "    z = x + ' '*i # z is new string with spaces\n",
    "    nums = list(z)\n",
    "    permutations = list(itertools.permutations(nums))\n",
    "    y = [''.join(permutation) for permutation in permutations]\n",
    "    \n",
    "    # remove leading or trailing spaces \n",
    "    y = [i.strip() for i in y]   \n",
    "\n",
    "y = set(y)"
   ]
  },
  {
   "cell_type": "code",
   "execution_count": 196,
   "id": "d21b5717",
   "metadata": {},
   "outputs": [],
   "source": [
    "# create empty temp set to store valid permutations without duplicate spaces\n",
    "temp = {x}\n",
    "\n",
    "# for each item in y, find out which have NO repeated spaces and add to temp set\n",
    "for i in y:\n",
    "    # identify locations of spaces in string\n",
    "    yy = [pos for pos, char in enumerate(i) if char == ' ']\n",
    "    if len(yy) < 2:\n",
    "        temp.add(i)\n",
    "    else:\n",
    "        zz = [j + 1 for j in yy]\n",
    "        if len(set(yy) & set(zz)) > 1:\n",
    "            temp.add(i)\n",
    "            \n",
    "# replace set y with temp set which is now cleaned of duplicates\n",
    "y = temp"
   ]
  },
  {
   "cell_type": "markdown",
   "id": "3b8e1a05",
   "metadata": {},
   "source": [
    "### Given a list of strings y, print the only ones which are real words"
   ]
  },
  {
   "cell_type": "code",
   "execution_count": 197,
   "id": "a71306ed",
   "metadata": {},
   "outputs": [
    {
     "name": "stdout",
     "output_type": "stream",
     "text": [
      "['aback']\n"
     ]
    }
   ],
   "source": [
    "from enchant.checker import SpellChecker\n",
    "chkr = SpellChecker(\"en_US\")\n",
    "\n",
    "goodwords = [d.check(i) for i in y]\n",
    "finalwords = list(itertools.compress(y, goodwords))\n",
    "print(finalwords)"
   ]
  },
  {
   "cell_type": "code",
   "execution_count": 198,
   "id": "4cfe0f9d",
   "metadata": {},
   "outputs": [],
   "source": [
    "#### That worked for a single word, now do it for a sentence\n",
    "from enchant.checker import SpellChecker\n",
    "chkr = SpellChecker(\"en_US\")\n",
    "chkr.set_text('a test is good')"
   ]
  },
  {
   "cell_type": "code",
   "execution_count": 201,
   "id": "12f16875",
   "metadata": {},
   "outputs": [
    {
     "ename": "SyntaxError",
     "evalue": "Missing parentheses in call to 'print'. Did you mean print(\"ERROR:\", err.word)? (<ipython-input-201-0d6b96edbb4b>, line 2)",
     "output_type": "error",
     "traceback": [
      "\u001b[1;36m  File \u001b[1;32m\"<ipython-input-201-0d6b96edbb4b>\"\u001b[1;36m, line \u001b[1;32m2\u001b[0m\n\u001b[1;33m    print \"ERROR:\", err.word\u001b[0m\n\u001b[1;37m          ^\u001b[0m\n\u001b[1;31mSyntaxError\u001b[0m\u001b[1;31m:\u001b[0m Missing parentheses in call to 'print'. Did you mean print(\"ERROR:\", err.word)?\n"
     ]
    }
   ],
   "source": [
    "for err in chkr:\n",
    "    print \"ERROR:\", err.word\n"
   ]
  },
  {
   "cell_type": "code",
   "execution_count": null,
   "id": "f53a4800",
   "metadata": {},
   "outputs": [],
   "source": []
  },
  {
   "cell_type": "code",
   "execution_count": null,
   "id": "9bcc0e3c",
   "metadata": {},
   "outputs": [],
   "source": [
    "\n",
    "\n",
    "\n",
    "\n",
    "\n",
    "\n",
    "\n",
    "\n",
    "\n",
    "\n",
    "\n",
    "\n",
    "\n",
    "\n",
    "\n",
    "\n",
    "\n",
    "\n",
    "\n",
    "\n",
    "\n",
    "\n",
    "\n",
    "\n",
    "\n",
    "\n",
    "\n",
    "\n",
    "\n",
    "\n",
    "\n",
    "\n",
    "\n",
    "\n",
    "\n",
    "\n"
   ]
  }
 ],
 "metadata": {
  "kernelspec": {
   "display_name": "Python 3",
   "language": "python",
   "name": "python3"
  },
  "language_info": {
   "codemirror_mode": {
    "name": "ipython",
    "version": 3
   },
   "file_extension": ".py",
   "mimetype": "text/x-python",
   "name": "python",
   "nbconvert_exporter": "python",
   "pygments_lexer": "ipython3",
   "version": "3.8.5"
  }
 },
 "nbformat": 4,
 "nbformat_minor": 5
}
