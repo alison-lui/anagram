{
 "cells": [
  {
   "cell_type": "code",
   "execution_count": 119,
   "id": "a45c5130",
   "metadata": {},
   "outputs": [],
   "source": [
    "import math\n",
    "import enchant\n",
    "import itertools\n",
    "import numpy as np\n",
    "import collections"
   ]
  },
  {
   "cell_type": "code",
   "execution_count": 79,
   "id": "82aeed05",
   "metadata": {},
   "outputs": [],
   "source": [
    "d = enchant.Dict(\"en_US\")"
   ]
  },
  {
   "cell_type": "code",
   "execution_count": 80,
   "id": "b848c752",
   "metadata": {},
   "outputs": [
    {
     "data": {
      "text/plain": [
       "True"
      ]
     },
     "execution_count": 80,
     "metadata": {},
     "output_type": "execute_result"
    }
   ],
   "source": [
    "d.check(\"Hello\")"
   ]
  },
  {
   "cell_type": "code",
   "execution_count": 81,
   "id": "b91b1867",
   "metadata": {},
   "outputs": [
    {
     "data": {
      "text/plain": [
       "False"
      ]
     },
     "execution_count": 81,
     "metadata": {},
     "output_type": "execute_result"
    }
   ],
   "source": [
    "d.check(\"Helo\")"
   ]
  },
  {
   "cell_type": "markdown",
   "id": "c0abb8a4",
   "metadata": {},
   "source": [
    "### Given a string x, generate all possible permutations"
   ]
  },
  {
   "cell_type": "code",
   "execution_count": 96,
   "id": "5f6f1af9",
   "metadata": {},
   "outputs": [],
   "source": [
    "x = 'abs'\n",
    "N = len(x) # number of letters"
   ]
  },
  {
   "cell_type": "markdown",
   "id": "03ff9feb",
   "metadata": {},
   "source": [
    "##### we can add between zero and N-1 spaces to the string to generate between 1 and N separate words"
   ]
  },
  {
   "cell_type": "code",
   "execution_count": 114,
   "id": "cbc3fb04",
   "metadata": {},
   "outputs": [],
   "source": [
    "for i in np.arange(0,N):\n",
    "    z = x + ' '*i # z is new string with spaces\n",
    "    nums = list(z)\n",
    "    permutations = list(itertools.permutations(nums))\n",
    "    y = [''.join(permutation) for permutation in permutations]\n",
    "    \n",
    "    # remove leading or trailing spaces \n",
    "    y = [i.strip() for i in y]\n",
    "    \n",
    "    # remove any duplicate spaces\n",
    "    \n",
    "\n",
    "y = set(y)"
   ]
  },
  {
   "cell_type": "code",
   "execution_count": 115,
   "id": "439a4628",
   "metadata": {},
   "outputs": [
    {
     "name": "stdout",
     "output_type": "stream",
     "text": [
      "{'as b', 'a b s', 'sa b', 's a b', 'b  sa', 'b  as', 'sb  a', 'sb a', 'a  sb', 's ba', 'ba  s', 'sba', 'abs', 'sa  b', 'a s b', 'bs  a', 'sab', 'ab  s', 'a  bs', 'bsa', 'ba s', 'ab s', 's  ab', 'bs a', 'b as', 'b a s', 's b a', 'asb', 's  ba', 'a sb', 'b s a', 'a bs', 'b sa', 's ab', 'as  b', 'bas'}\n"
     ]
    }
   ],
   "source": [
    "print(y)"
   ]
  },
  {
   "cell_type": "code",
   "execution_count": 124,
   "id": "71271731",
   "metadata": {},
   "outputs": [
    {
     "name": "stdout",
     "output_type": "stream",
     "text": [
      "{' ': 2}\n"
     ]
    }
   ],
   "source": [
    "# are there repeated spaces?\n",
    "frequencies = collections.Counter('a b s')\n",
    "repeated = {}\n",
    "for key, value in frequencies.items():\n",
    "    if value > 1:\n",
    "        repeated[key] = value\n",
    "\n",
    "print(repeated)"
   ]
  },
  {
   "cell_type": "code",
   "execution_count": 127,
   "id": "c9e268fd",
   "metadata": {},
   "outputs": [
    {
     "data": {
      "text/plain": [
       "1"
      ]
     },
     "execution_count": 127,
     "metadata": {},
     "output_type": "execute_result"
    }
   ],
   "source": [
    "string = 'a b s'\n",
    "string.index(' ')"
   ]
  },
  {
   "cell_type": "markdown",
   "id": "121dd648",
   "metadata": {},
   "source": [
    "### Given a list of strings y, print the only ones which are real words"
   ]
  },
  {
   "cell_type": "code",
   "execution_count": 91,
   "id": "d0495e1f",
   "metadata": {},
   "outputs": [
    {
     "name": "stdout",
     "output_type": "stream",
     "text": [
      "['pancake', 'pancake']\n"
     ]
    }
   ],
   "source": [
    "goodwords = [d.check(i) for i in y]\n",
    "finalwords = list(itertools.compress(y, goodwords))\n",
    "print(finalwords)"
   ]
  },
  {
   "cell_type": "code",
   "execution_count": 90,
   "id": "b5401838",
   "metadata": {},
   "outputs": [
    {
     "name": "stdout",
     "output_type": "stream",
     "text": [
      "['pancake', 'pancake']\n"
     ]
    }
   ],
   "source": []
  },
  {
   "cell_type": "code",
   "execution_count": null,
   "id": "7e695836",
   "metadata": {},
   "outputs": [],
   "source": []
  },
  {
   "cell_type": "code",
   "execution_count": null,
   "id": "0c6abd20",
   "metadata": {},
   "outputs": [],
   "source": []
  },
  {
   "cell_type": "code",
   "execution_count": null,
   "id": "76675cb2",
   "metadata": {},
   "outputs": [],
   "source": []
  },
  {
   "cell_type": "code",
   "execution_count": null,
   "id": "90b4bb59",
   "metadata": {},
   "outputs": [],
   "source": [
    "\n",
    "\n",
    "\n",
    "\n",
    "\n",
    "\n",
    "\n",
    "\n",
    "\n",
    "\n",
    "\n",
    "\n",
    "\n",
    "\n",
    "\n",
    "\n",
    "\n",
    "\n",
    "\n",
    "\n",
    "\n",
    "\n",
    "\n",
    "\n",
    "\n",
    "\n",
    "\n",
    "\n",
    "\n",
    "\n",
    "\n",
    "\n",
    "\n",
    "\n",
    "\n",
    "\n"
   ]
  }
 ],
 "metadata": {
  "kernelspec": {
   "display_name": "Python 3",
   "language": "python",
   "name": "python3"
  },
  "language_info": {
   "codemirror_mode": {
    "name": "ipython",
    "version": 3
   },
   "file_extension": ".py",
   "mimetype": "text/x-python",
   "name": "python",
   "nbconvert_exporter": "python",
   "pygments_lexer": "ipython3",
   "version": "3.8.5"
  }
 },
 "nbformat": 4,
 "nbformat_minor": 5
}
